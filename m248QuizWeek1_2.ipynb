{
 "cells": [
  {
   "cell_type": "markdown",
   "metadata": {
    "deletable": false,
    "editable": false,
    "nbgrader": {
     "cell_type": "markdown",
     "checksum": "eb508a3db9aa49a5a90ed84c43a3db9d",
     "grade": false,
     "grade_id": "cell-894b44f6e4aa6d89",
     "locked": true,
     "schema_version": 3,
     "solution": false,
     "task": false
    }
   },
   "source": [
    "## 1) List TEN things you learned during Weeks 1 and 2 and FIVE things you still don't understand or are curious and would like to learn about."
   ]
  },
  {
   "cell_type": "markdown",
   "metadata": {
    "deletable": false,
    "nbgrader": {
     "cell_type": "markdown",
     "checksum": "674a04c7b9ac8bbe1af73ec37ad0d3c5",
     "grade": true,
     "grade_id": "cell-2b7b7a3717ed7c28",
     "locked": false,
     "points": 2,
     "schema_version": 3,
     "solution": true,
     "task": false
    }
   },
   "source": [
    "# Question 1\n",
    "\n",
    "## 10 Things I have learned during weeks 1 and 2\n",
    "\n",
    "1. I have learned how to use jupiter notebook and write code in the program. I had not used the program prior to this class.\n",
    "\n",
    "2. I have learned how to use latex and how to use the functions within the program. I now know how to do things like: write numbered lists, headers and subheaders, and write equations. This I had also not used before this class.\n",
    "\n",
    "3. I have learned basic functions of python and what it can do. These include the use of libiraries such as pandas and numpy. These were things I had some prior experience with, but understand when we would use them more so now.\n",
    "\n",
    "4. I have learned how to code basic function in python. These include the for loop, how to numarically find a sum, and how to use plots and subplots.\n",
    "\n",
    "5. I figured out the sturcture of this class. I now know the weekly schedule, when we meet in person, and the structure and ideas behind the weekly quizes.\n",
    "\n",
    "6. I learned some useful tricks for solving the quiz and basic coding problems. After spending some time on the quiz, I found a number of helpful websites with example code to demonstrate ideas and different code.\n",
    "\n",
    "7. I learned how time consuming coding can be, even simple problems. I will definitly need to start the quizes early in the week. \n",
    "\n",
    "8. I now understand why coding and understanding programs like python is so useful. Basic data and coding skills can be helpful in classes and life later on.\n",
    "\n",
    "9. I learned that python can be used in machine learning. I did not realize that it was a useful language for that type of problem. \n",
    "\n",
    "10. I learned that JMU offers other classes that can act as an extesion of some of the ideas that we will cover in this course. \n",
    "\n",
    "## 5 things I still don't understand\n",
    "\n",
    "1. Some of the sytax I do not fully understand. I had some trouble on the quiz figuring out the proper sytax for for/while loops.\n",
    "\n",
    "2. I belive I get the idea, but when to use for, if, and while loops is sometimes unclear to me. Sometimes it seems obvious which one to use, while othertimes it seems if and for could work in place of one another.\n",
    "\n",
    "3. I wasns't quite sure why we use python as a language so much at JMU. Other schools often seem to use matlab istead but here it seems python is prefered. \n",
    "\n",
    "4. I do not know how to use github as a program for this class very well. submiting the quizzes confuses me a bit and so does the page for this class attatched on canvas.\n",
    "\n",
    "5. I don't know much about the final project that was mentioned on the first day of class. I am interested to know what it is so I could start to brainstorm some ideas."
   ]
  },
  {
   "cell_type": "markdown",
   "metadata": {
    "deletable": false,
    "editable": false,
    "nbgrader": {
     "cell_type": "markdown",
     "checksum": "f5a4e240a74d78afb335b8264b09f66f",
     "grade": false,
     "grade_id": "cell-f8652ead18e4e4b4",
     "locked": true,
     "schema_version": 3,
     "solution": false,
     "task": false
    }
   },
   "source": [
    "## 2) Answer the following (cite your references).\n",
    "\n",
    "1.  What is a transistor? Why is it important for building and enhancing\n",
    "    computers?\n",
    "\n",
    "2.  How small is the smallest transistor ever invented?\n",
    "\n",
    "3.  What is a semiconductor? Why is it important for building and\n",
    "    enhancing computers?\n",
    "\n",
    "4.  Why was the development of the RAM revolutionary for the development\n",
    "    of the modern computer?\n",
    "\n",
    "5.  Why is there now so much research about quantum computing?"
   ]
  },
  {
   "cell_type": "markdown",
   "metadata": {
    "deletable": false,
    "nbgrader": {
     "cell_type": "markdown",
     "checksum": "1dd38b104ad5febe74015c3bd45824f9",
     "grade": true,
     "grade_id": "cell-b0950da5a192e035",
     "locked": false,
     "points": 3,
     "schema_version": 3,
     "solution": true,
     "task": false
    }
   },
   "source": [
    "1. A transistor is a semicodnductor device that can act as a switch or an amplifier of electric current. Transistors are fundimental to the function of microchips where the ability to switch in the presence of an electric current changes the state that the transistor is in. Assigning each state to a 0 or a 1 and using binary enables code and the basis for all compuing technology to function.\n",
    "\n",
    "source:https://www.britannica.com/technology/transistor\n",
    "source: https://electronics.howstuffworks.com/transistor3.htm\n",
    "\n",
    "2. 7 nm transistors are standard size for modern devices. Recently, IBM scientists have developed a transistor that is 2.5 nm wide.\n",
    "\n",
    "source: https://newatlas.com/computers/ibm-2-nm-chips-transistors/\n",
    "\n",
    "\n",
    "3. A semiconductor is a material that is neither a conductor nor an insulator. The way a semiconductor material conducts electricity can be altered by doping and this can be used to create materials with useful electrical properties, specifically the use of silicon in microchips.\n",
    "\n",
    "source: https://en.wikipedia.org/wiki/Semiconductor\n",
    "\n",
    "\n",
    "4. The development of RAM enabled computers to store information in a quickly accessable location, vastly increasing the computational speed of computers. Magnetic memory was used mainly beofre RAM and it was slower and more costly. \n",
    "\n",
    "source: https://www.computerhistory.org/timeline/memory-storage/\n",
    "\n",
    "5. Quantum compouters use Qbits, as opposed to classical bits in stadard computers. These Qbits are able to be in more states than a classical bit which can only be in two states. This vastly enhances the computational capability of the quantum computer. Certain problems that we may not have the computational capacity for now could be easily solvable with a quantum computer. Factoring large numbers gets very taxing for a standard computer; however, quantum computers should do this with ease."
   ]
  },
  {
   "cell_type": "markdown",
   "metadata": {
    "deletable": false,
    "editable": false,
    "nbgrader": {
     "cell_type": "markdown",
     "checksum": "e1f4bff982518f43deffd77da0d2f98f",
     "grade": false,
     "grade_id": "cell-e7685bfd97b1fa0d",
     "locked": true,
     "schema_version": 3,
     "solution": false,
     "task": false
    }
   },
   "source": [
    "# 3) Calculate the following sum analytically $\\sum_{k=6}^{50}k^2$."
   ]
  },
  {
   "cell_type": "markdown",
   "metadata": {
    "deletable": false,
    "nbgrader": {
     "cell_type": "markdown",
     "checksum": "640c9ff9bb9fef172896282cfd741373",
     "grade": true,
     "grade_id": "cell-6ddaee207af6ebab",
     "locked": false,
     "points": 0,
     "schema_version": 3,
     "solution": true,
     "task": false
    }
   },
   "source": [
    "[50(50+1)(2(50)+1)]/6 - [5(5+1)(2(5)+1)]/6 = 42870"
   ]
  },
  {
   "cell_type": "markdown",
   "metadata": {
    "deletable": false,
    "editable": false,
    "nbgrader": {
     "cell_type": "markdown",
     "checksum": "9005c1396d19a117483411b931607f19",
     "grade": false,
     "grade_id": "cell-ecc04f9ad599a9e7",
     "locked": true,
     "schema_version": 3,
     "solution": false,
     "task": false
    }
   },
   "source": [
    "## 4) Programming: Write a program that lists all the multiples of 15 greater than −200 and strictly less than 2000."
   ]
  },
  {
   "cell_type": "code",
   "execution_count": 1,
   "metadata": {
    "deletable": false,
    "nbgrader": {
     "cell_type": "code",
     "checksum": "9fd756ed357fee4846cabea0de3c8dcb",
     "grade": true,
     "grade_id": "cell-640c6f13e30f6fbb",
     "locked": false,
     "points": 0,
     "schema_version": 3,
     "solution": true,
     "task": false
    }
   },
   "outputs": [
    {
     "name": "stdout",
     "output_type": "stream",
     "text": [
      "[-195, -180, -165, -150, -135, -120, -105, -90, -75, -60, -45, -30, -15, 0, 15, 30, 45, 60, 75, 90, 105, 120, 135, 150, 165, 180, 195, 210, 225, 240, 255, 270, 285, 300, 315, 330, 345, 360, 375, 390, 405, 420, 435, 450, 465, 480, 495, 510, 525, 540, 555, 570, 585, 600, 615, 630, 645, 660, 675, 690, 705, 720, 735, 750, 765, 780, 795, 810, 825, 840, 855, 870, 885, 900, 915, 930, 945, 960, 975, 990, 1005, 1020, 1035, 1050, 1065, 1080, 1095, 1110, 1125, 1140, 1155, 1170, 1185, 1200, 1215, 1230, 1245, 1260, 1275, 1290, 1305, 1320, 1335, 1350, 1365, 1380, 1395, 1410, 1425, 1440, 1455, 1470, 1485, 1500, 1515, 1530, 1545, 1560, 1575, 1590, 1605, 1620, 1635, 1650, 1665, 1680, 1695, 1710, 1725, 1740, 1755, 1770, 1785, 1800, 1815, 1830, 1845, 1860, 1875, 1890, 1905, 1920, 1935, 1950, 1965, 1980, 1995]\n",
      "<class 'list'>\n",
      "(147,)\n"
     ]
    }
   ],
   "source": [
    "# YOUR CODE HERE\n",
    "import numpy as np\n",
    "list=[]\n",
    "for i in range(-195,1996,15):\n",
    "    list.append(i)\n",
    "print(list)\n",
    "\n",
    "print(type(list))\n",
    "print(np.shape(list))"
   ]
  },
  {
   "cell_type": "markdown",
   "metadata": {
    "deletable": false,
    "editable": false,
    "nbgrader": {
     "cell_type": "markdown",
     "checksum": "6c090de0dbab0c06dcf6291879e509ec",
     "grade": false,
     "grade_id": "cell-b357592096b88921",
     "locked": true,
     "schema_version": 3,
     "solution": false,
     "task": false
    }
   },
   "source": [
    "## 􏰀5) Programming: Write a program that calculates the sum\n",
    "$$\\sum_{k=-100}^{75}\\frac{k^3-2k}{k^2+2}$$\n",
    "## Can this sum be computed analytically?"
   ]
  },
  {
   "cell_type": "code",
   "execution_count": 3,
   "metadata": {
    "deletable": false,
    "nbgrader": {
     "cell_type": "code",
     "checksum": "7f19606987e40fd6eb0b0cfb9c5445de",
     "grade": true,
     "grade_id": "cell-294356bd9b3e974b",
     "locked": false,
     "points": 0,
     "schema_version": 3,
     "solution": true,
     "task": false
    }
   },
   "outputs": [
    {
     "name": "stdout",
     "output_type": "stream",
     "text": [
      "finite sum -2198.856218040634\n"
     ]
    }
   ],
   "source": [
    "# YOUR CODE HERE\n",
    "sum=0\n",
    "for k in range(-100,76,1):\n",
    "    sum=sum+(((k**3)-(2*k))/((k**2)+2))\n",
    "print('finite sum', sum)"
   ]
  },
  {
   "cell_type": "markdown",
   "metadata": {
    "deletable": false,
    "editable": false,
    "nbgrader": {
     "cell_type": "markdown",
     "checksum": "ac42e04c12e20624d0b5852df5bf4bf6",
     "grade": false,
     "grade_id": "cell-66c1f9def8fc5cb5",
     "locked": true,
     "schema_version": 3,
     "solution": false,
     "task": false
    }
   },
   "source": [
    "## 6) Programming: Write a program that determines whether the sequence \n",
    "$$a_n=\\frac{(\\cos(n))^2}{2^n}$$\n",
    "## converges or diverges. Make two subplots showing the convergence of the sequence, one subplot showing the sequence as a function of n, and the other plotting the sequence on the number line. Label the axes and title your subplots. \n",
    "\n",
    "## What is the limit of this sequence?"
   ]
  },
  {
   "cell_type": "code",
   "execution_count": 55,
   "metadata": {
    "deletable": false,
    "nbgrader": {
     "cell_type": "code",
     "checksum": "ccc69d797893c2e8f3a88893030af799",
     "grade": true,
     "grade_id": "cell-17b78fde82a13eb6",
     "locked": false,
     "points": 0,
     "schema_version": 3,
     "solution": true,
     "task": false
    }
   },
   "outputs": [
    {
     "name": "stdout",
     "output_type": "stream",
     "text": [
      "the first n that approaches the limit is\n",
      "\n",
      " 9.563868496795297e-09\n",
      "the sequnce converges\n"
     ]
    },
    {
     "data": {
      "text/plain": [
       "Text(0.5, 1.0, 'Another way of visualizing the sequence')"
      ]
     },
     "execution_count": 55,
     "metadata": {},
     "output_type": "execute_result"
    },
    {
     "data": {
      "image/png": "[encoded data removed]",
      "text/plain": [
       "<Figure size 1440x720 with 2 Axes>"
      ]
     },
     "metadata": {
      "needs_background": "light"
     },
     "output_type": "display_data"
    }
   ],
   "source": [
    "## YOUR CODE HERE\n",
    "import numpy as np\n",
    "import matplotlib.pyplot as plt\n",
    "\n",
    "def f(n):\n",
    "    return ((np.cos(n)**2)/(2**n))\n",
    "\n",
    "n=1\n",
    "L=0\n",
    "eps=0.000001\n",
    "list=[]\n",
    "while (abs(f(n)-L)>eps):\n",
    "    list.append(f(n))\n",
    "    n=n+1\n",
    "print('the first n that approaches the limit is')\n",
    "print('\\n', f(n))\n",
    "\n",
    "#if( abs(f(n)<100)):\n",
    "     # print('the sequnce converges')\n",
    "    \n",
    "#to find out of the sequence conevrges I found the sum of the first 1000 terms\n",
    "#and had the computer print that the sequence converges if this sum is less than 10\n",
    "#I am showing that, as the values of n get large, the sum does not go to inf\n",
    "#but instead a constant, ie converging\n",
    "\n",
    "#i think there is a better way\n",
    "\n",
    "sum=0\n",
    "for n in range(0,1000,10):\n",
    "    sum=sum+f(n)\n",
    "    \n",
    "if (sum<100):\n",
    "    print('the sequnce converges')\n",
    "\n",
    "fig, subs=plt.subplots(1,2,figsize=(20,10))\n",
    "subs[0].plot(list, 'ko')\n",
    "\n",
    "subs[0].set_xlabel('n')\n",
    "subs[0].set_ylabel('f(n)')\n",
    "subs[0].set_title('The sequence plotted against its index', fontsize=18)\n",
    "\n",
    "\n",
    "subs[1].plot(list,np.zeros(len(list)), 'ko')\n",
    "subs[1].set_xlabel('n')\n",
    "subs[1].set_ylabel('f(n)')\n",
    "subs[1].set_title('Another way of visualizing the sequence', fontsize=18)\n",
    "\n"
   ]
  },
  {
   "cell_type": "code",
   "execution_count": null,
   "metadata": {},
   "outputs": [],
   "source": []
  },
  {
   "cell_type": "code",
   "execution_count": null,
   "metadata": {},
   "outputs": [],
   "source": []
  },
  {
   "cell_type": "code",
   "execution_count": null,
   "metadata": {},
   "outputs": [],
   "source": []
  },
  {
   "cell_type": "code",
   "execution_count": null,
   "metadata": {},
   "outputs": [],
   "source": []
  }
 ],
 "metadata": {
  "kernelspec": {
   "display_name": "Python 3 (ipykernel)",
   "language": "python",
   "name": "python3"
  },
  "language_info": {
   "codemirror_mode": {
    "name": "ipython",
    "version": 3
   },
   "file_extension": ".py",
   "mimetype": "text/x-python",
   "name": "python",
   "nbconvert_exporter": "python",
   "pygments_lexer": "ipython3",
   "version": "3.9.12"
  }
 },
 "nbformat": 4,
 "nbformat_minor": 4
}
